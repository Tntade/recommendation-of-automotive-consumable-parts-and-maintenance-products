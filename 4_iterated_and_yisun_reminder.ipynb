{
 "cells": [
  {
   "cell_type": "code",
   "execution_count": 1,
   "metadata": {},
   "outputs": [],
   "source": [
    "import numpy as np\n",
    "import pandas as pd\n",
    "import warnings,gc,os,time,math\n",
    "warnings.filterwarnings('ignore')\n",
    "from functools import reduce\n",
    "from dateutil.relativedelta import relativedelta\n",
    "from datetime import datetime"
   ]
  },
  {
   "cell_type": "code",
   "execution_count": 2,
   "metadata": {},
   "outputs": [],
   "source": [
    "def check_df(df):\n",
    "    df=df.drop_duplicates()\n",
    "    print(df.shape)\n",
    "    print(df[['VIN','修理日期']].drop_duplicates().shape)\n",
    "    print(df['VIN'].nunique())\n",
    "    \n",
    "def check_run_time(s):\n",
    "    r=(time.time()-s)/3600\n",
    "    return \"Run Hour: %f\"%r\n",
    "\n",
    "def get_user(df):\n",
    "    df['VIN']=df['VIN'].apply(str)\n",
    "    df['车身型式']=df['VIN'].apply(lambda x:x[3])\n",
    "    df['变速器']=df['VIN'].apply(lambda x:x[4])\n",
    "    df['乘员保护系统']=df['VIN'].apply(lambda x:x[5])\n",
    "    df['车辆等级']=df['VIN'].apply(lambda x:x[6:8])\n",
    "    df['生产年份']=df['VIN'].apply(lambda x:x[9])\n",
    "    df['装配厂']=df['VIN'].apply(lambda x:x[10])\n",
    "    for col in ['车身型式', '变速器', '乘员保护系统', '车辆等级', '生产年份', '装配厂']:\n",
    "        df[col]=df[col].astype(str)\n",
    "    df['用户属性']=list(map(lambda a,b,c,d,e,f:a+','+b+','+c+','+d+','+e+','+f,df['车身型式'],df['变速器'],\n",
    "                        df['乘员保护系统'],df['车辆等级'],df['生产年份'],df['装配厂']))\n",
    "    return df\n",
    "\n",
    "\n",
    "def get_last_run(df):\n",
    "    df['修理日期']=pd.to_datetime(df['修理日期'])\n",
    "    df['购车时间']=pd.to_datetime(df['购车时间'])\n",
    "    df=df.sort_values(by=['VIN','修理日期'],ascending=False).reset_index(drop=True)\n",
    "    df['修理日期_last']=df.groupby('VIN')['修理日期'].shift(-1)\n",
    "    df['公里数_last']=df.groupby('VIN')['公里数'].shift(-1)\n",
    "    df.loc[df['修理日期_last'].isnull(),'修理日期_last']=df['购车时间']\n",
    "    df.loc[df['公里数_last'].isnull(),'公里数_last']=0\n",
    "    df['上下天数差']=(df['修理日期']-df['修理日期_last']).apply(lambda x:x.days)\n",
    "    df['上下公里数差']=(df['公里数']-df['公里数_last'])\n",
    "    return df"
   ]
  },
  {
   "cell_type": "markdown",
   "metadata": {},
   "source": [
    "### <font color=red>第一部分:数据合并,加,迭代"
   ]
  },
  {
   "cell_type": "code",
   "execution_count": 3,
   "metadata": {},
   "outputs": [
    {
     "name": "stdout",
     "output_type": "stream",
     "text": [
      "True\n",
      "30\n",
      "biggest batch : 11\n"
     ]
    }
   ],
   "source": [
    "filename='ud20201019'\n",
    "num='_34' \n",
    "today='20201023'\n",
    "\n",
    "datap='/home/jupyter/LQ/VW/data/'\n",
    "new_datap='/home/jupyter/LCG/dazhong/V2/%s/'%(filename) #读取阿桂的数据\n",
    "savep='/home/jupyter/LQ/VW/20191217_VW_下次保养里程预测/20201023自动化更新数据/%s%s/'%(today,str(num))\n",
    "\n",
    "if os.path.exists(savep):\n",
    "    print('True')\n",
    "else:\n",
    "    os.mkdir(savep)\n",
    "    \n",
    "store_num=num.replace('_','')\n",
    "store_num=int(store_num)\n",
    "print(store_num)\n",
    "\n",
    "if (store_num<=20):\n",
    "    baoyang_id_max=10\n",
    "elif (store_num>20)&(store_num<=40):\n",
    "    baoyang_id_max=11\n",
    "elif (store_num>40)&(store_num<=50):\n",
    "    baoyang_id_max=12\n",
    "elif store_num>50:\n",
    "    baoyang_id_max=13\n",
    "    \n",
    "print('biggest batch :',baoyang_id_max)\n",
    "\n",
    "s1=time.time()"
   ]
  },
  {
   "cell_type": "code",
   "execution_count": 4,
   "metadata": {},
   "outputs": [],
   "source": [
    "updated_savep='/home/jupyter/LQ/VW/updated_data_toChongGui/0_月更/'"
   ]
  },
  {
   "cell_type": "markdown",
   "metadata": {},
   "source": [
    "### <font color=red>得到二个结果"
   ]
  },
  {
   "cell_type": "code",
   "execution_count": 5,
   "metadata": {},
   "outputs": [
    {
     "name": "stdout",
     "output_type": "stream",
     "text": [
      "(3174254, 30)\n",
      "(3174254, 2)\n",
      "804143\n",
      "['VIN', 'brand', '一般维修', '事故车维修', '二手车认证维修', '保养状态', '修理日期', '修理类型', '修理类型_new', '公里数', '内部车辆维修', '在店状态', '工时费', '常去经销商', '常规保养', '普通索赔', '服务活动', '经销商代码', '维修金额', '维修金额_折前', '购车时间', '附件安装', '零件费', '首保', '人群_一级分类', '车龄', '车龄bin', '常规次数', '首保次数', '人群_二级分类']\n"
     ]
    }
   ],
   "source": [
    "df=pd.read_pickle(savep+'final_zhudan.pkl')\n",
    "print(df.shape)\n",
    "print(df[['VIN','修理日期']].drop_duplicates().shape)\n",
    "print(df['VIN'].nunique())\n",
    "print(list(df.columns))"
   ]
  },
  {
   "cell_type": "code",
   "execution_count": 6,
   "metadata": {},
   "outputs": [
    {
     "name": "stdout",
     "output_type": "stream",
     "text": [
      "(3055155, 30)\n"
     ]
    }
   ],
   "source": [
    "baoyang=df[(df['首保']==1)|(df['常规保养']==1)]\n",
    "print(baoyang.shape)"
   ]
  },
  {
   "cell_type": "code",
   "execution_count": 7,
   "metadata": {},
   "outputs": [
    {
     "name": "stdout",
     "output_type": "stream",
     "text": [
      "8\n",
      "-494274.0\n"
     ]
    }
   ],
   "source": [
    "baoyang=get_last_run(baoyang)\n",
    "print(baoyang['上下天数差'].min())\n",
    "print(baoyang['上下公里数差'].min())"
   ]
  },
  {
   "cell_type": "code",
   "execution_count": 8,
   "metadata": {},
   "outputs": [
    {
     "name": "stdout",
     "output_type": "stream",
     "text": [
      "                 VIN  上下天数差_min  上下天数差_median  上下天数差_max  上下天数差_mean  \\\n",
      "0  LSV00000000000000         20          32.0       3418  277.857143   \n",
      "1  LSV0F6180F2205902        140         280.0        420  280.000000   \n",
      "2  LSV0F6180F2261984         60          74.0         88   74.000000   \n",
      "3  LSV0F6180F2279269         85         195.0        532  270.666667   \n",
      "4  LSV0F6180G2034375         57         110.0        239  119.000000   \n",
      "\n",
      "   上下公里数差_min  上下公里数差_median  上下公里数差_max   上下公里数差_mean  \n",
      "0        10.0        10474.5     53987.0  19539.214286  \n",
      "1      5128.0        11181.5     17235.0  11181.500000  \n",
      "2      5286.0         5667.0      6048.0   5667.000000  \n",
      "3      5418.0         9922.0     22724.0  12688.000000  \n",
      "4      5007.0         7621.0     14963.0   8064.888889  \n"
     ]
    }
   ],
   "source": [
    "baoyang1=baoyang[baoyang['上下公里数差']>0]\n",
    "baoyang_info=baoyang1.groupby('VIN')['上下天数差','上下公里数差'].agg({'max','min','median','mean'})\n",
    "baoyang_info.columns=['_'.join(x) for x in baoyang_info.columns.tolist()]\n",
    "baoyang_info=baoyang_info.reset_index()\n",
    "print(baoyang_info.head())"
   ]
  },
  {
   "cell_type": "code",
   "execution_count": 9,
   "metadata": {},
   "outputs": [
    {
     "name": "stdout",
     "output_type": "stream",
     "text": [
      "2\n",
      "3\n",
      "4\n",
      "5\n",
      "6\n",
      "7\n",
      "8\n",
      "9\n",
      "10\n",
      "11\n",
      "(549622, 51)\n"
     ]
    }
   ],
   "source": [
    "modeldf_1=pd.DataFrame()\n",
    "for i in range(2,baoyang_id_max+1):\n",
    "    print(i)\n",
    "    tmp=pd.read_pickle(savep+'%d_model_result.pkl'%i)\n",
    "    modeldf_1=pd.concat([modeldf_1,tmp],axis=0)\n",
    "print(modeldf_1.shape)"
   ]
  },
  {
   "cell_type": "code",
   "execution_count": 10,
   "metadata": {},
   "outputs": [
    {
     "name": "stdout",
     "output_type": "stream",
     "text": [
      "(549622, 18)\n",
      "549622\n"
     ]
    }
   ],
   "source": [
    "cols=['VIN', '购车时间', '在店状态', '保养状态', '人群_一级分类', '人群_二级分类', \n",
    "      '期间最后一次保养天数', '期间最后一次保养公里数','天数差_next_fin','公里数差_next_fin',\n",
    "      '日均_next_fin', '天数差',\n",
    "      '下一次保养公里数', '公里数差', '最终日均', '下一次保养日期', '最后一次保养日期',\n",
    "      '最后一次保养公里数']\n",
    "modeldf=modeldf_1[cols]\n",
    "print(modeldf.shape)\n",
    "print(modeldf['VIN'].nunique())"
   ]
  },
  {
   "cell_type": "code",
   "execution_count": 11,
   "metadata": {},
   "outputs": [
    {
     "name": "stdout",
     "output_type": "stream",
     "text": [
      "(549622, 26)\n",
      "549622\n"
     ]
    }
   ],
   "source": [
    "modeldf=modeldf.merge(baoyang_info,on=['VIN'],how='left')\n",
    "print(modeldf.shape)\n",
    "print(modeldf['VIN'].nunique())"
   ]
  },
  {
   "cell_type": "code",
   "execution_count": 12,
   "metadata": {},
   "outputs": [
    {
     "name": "stdout",
     "output_type": "stream",
     "text": [
      "模型中极端值放到规则中\n",
      "1.自身平滑掉,天数差_next_fin<期间最后一次保养天数\n"
     ]
    }
   ],
   "source": [
    "print('模型中极端值放到规则中')\n",
    "print('1.自身平滑掉,天数差_next_fin<期间最后一次保养天数')\n",
    "modeldf.loc[modeldf['天数差_next_fin']<=modeldf['期间最后一次保养天数'],'put_in_rule']=1"
   ]
  },
  {
   "cell_type": "code",
   "execution_count": 13,
   "metadata": {},
   "outputs": [
    {
     "name": "stdout",
     "output_type": "stream",
     "text": [
      "2.自身平滑掉,公里数差_next_fin<期间最后一次保养公里数\n"
     ]
    }
   ],
   "source": [
    "print('2.自身平滑掉,公里数差_next_fin<期间最后一次保养公里数')\n",
    "modeldf['公里数差_next_fin']=modeldf['公里数差_next_fin'].astype(float)\n",
    "modeldf['期间最后一次保养公里数']=modeldf['期间最后一次保养公里数'].astype(float)\n",
    "modeldf.loc[modeldf['公里数差_next_fin']<=modeldf['期间最后一次保养公里数'],'put_in_rule']=1"
   ]
  },
  {
   "cell_type": "code",
   "execution_count": 14,
   "metadata": {},
   "outputs": [
    {
     "name": "stdout",
     "output_type": "stream",
     "text": [
      "3.自身平滑掉,天数差<天数差_min*0.5\n"
     ]
    }
   ],
   "source": [
    "print('3.自身平滑掉,天数差<天数差_min*0.5')\n",
    "modeldf.loc[(modeldf['天数差']<modeldf['上下天数差_min']*0.5)&(modeldf['天数差']<=15),'put_in_rule']=1"
   ]
  },
  {
   "cell_type": "code",
   "execution_count": 15,
   "metadata": {},
   "outputs": [
    {
     "name": "stdout",
     "output_type": "stream",
     "text": [
      "4.自身平滑掉,天数差>天数差_max*1.5\n"
     ]
    }
   ],
   "source": [
    "print('4.自身平滑掉,天数差>天数差_max*1.5')\n",
    "modeldf.loc[(modeldf['天数差']>modeldf['上下天数差_max']*2)&(modeldf['天数差']>=365*3),'put_in_rule']=1"
   ]
  },
  {
   "cell_type": "code",
   "execution_count": 16,
   "metadata": {},
   "outputs": [],
   "source": [
    "# print('5.自身平滑掉,公里数差<公里数差_min*0.5')\n",
    "# modeldf.loc[modeldf['公里数差']<modeldf['上下公里数差_min']*0.5,'put_in_rule_5']=1\n",
    "# print(len(modeldf[modeldf['put_in_rule_5']==1]))\n",
    "\n",
    "# print('6.自身平滑掉,公里数差>公里数差_max*1.5')\n",
    "# modeldf.loc[modeldf['公里数差']>modeldf['上下公里数差_max']*2,'put_in_rule_6']=1\n",
    "# print(len(modeldf[modeldf['put_in_rule_6']==1]))"
   ]
  },
  {
   "cell_type": "code",
   "execution_count": 17,
   "metadata": {},
   "outputs": [
    {
     "name": "stdout",
     "output_type": "stream",
     "text": [
      "(3377, 27)\n",
      "3377\n",
      "0.00614422275673099\n",
      "546245\n"
     ]
    }
   ],
   "source": [
    "put_rule=modeldf[modeldf['put_in_rule']==1]\n",
    "print(put_rule.shape)\n",
    "print(put_rule['VIN'].nunique())\n",
    "\n",
    "print(put_rule['VIN'].nunique()/modeldf['VIN'].nunique())\n",
    "\n",
    "model=modeldf[~(modeldf['VIN'].isin(put_rule['VIN']))]\n",
    "model['mark']='模型预测'\n",
    "print(model['VIN'].nunique())"
   ]
  },
  {
   "cell_type": "code",
   "execution_count": 19,
   "metadata": {},
   "outputs": [
    {
     "name": "stdout",
     "output_type": "stream",
     "text": [
      "(850310, 9)\n"
     ]
    }
   ],
   "source": [
    "ruledf=pd.DataFrame()\n",
    "for i in range(8):\n",
    "    tmp=pd.read_pickle(savep+'%d_rule_test.pkl'%i)\n",
    "    ruledf=pd.concat([ruledf,tmp],axis=0)\n",
    "print(ruledf.shape)"
   ]
  },
  {
   "cell_type": "code",
   "execution_count": null,
   "metadata": {},
   "outputs": [],
   "source": []
  },
  {
   "cell_type": "code",
   "execution_count": 20,
   "metadata": {},
   "outputs": [
    {
     "name": "stdout",
     "output_type": "stream",
     "text": [
      "(850310, 9)\n",
      "850310\n",
      "VIN          0\n",
      "最后一次保养日期     0\n",
      "最后一次保养公里数    0\n",
      "天数差          0\n",
      "公里数差         0\n",
      "最终日均         0\n",
      "下一次保养日期      0\n",
      "下一次保养公里数     0\n",
      "mark         0\n",
      "dtype: int64\n"
     ]
    }
   ],
   "source": [
    "ruledf.columns=['VIN', '最后一次保养日期', '最后一次保养公里数', '天数差', '公里数差',\n",
    "               '最终日均', '下一次保养日期', '下一次保养公里数','mark']\n",
    "print(ruledf.shape)\n",
    "print(ruledf['VIN'].nunique())\n",
    "print(pd.isnull(ruledf).sum())"
   ]
  },
  {
   "cell_type": "code",
   "execution_count": 21,
   "metadata": {},
   "outputs": [
    {
     "name": "stdout",
     "output_type": "stream",
     "text": [
      "(304065, 9)\n",
      "304065\n"
     ]
    }
   ],
   "source": [
    "rule=ruledf[~(ruledf['VIN'].isin(set(model['VIN'])))]\n",
    "print(rule.shape)\n",
    "print(rule['VIN'].nunique())"
   ]
  },
  {
   "cell_type": "code",
   "execution_count": 22,
   "metadata": {},
   "outputs": [],
   "source": [
    "rule=rule.merge(baoyang_info,on='VIN',how='left')"
   ]
  },
  {
   "cell_type": "code",
   "execution_count": 23,
   "metadata": {},
   "outputs": [
    {
     "name": "stdout",
     "output_type": "stream",
     "text": [
      "17\n",
      "['VIN', '天数差', '下一次保养公里数', '公里数差', '最终日均', '下一次保养日期', '最后一次保养日期', '最后一次保养公里数', '上下天数差_min', '上下天数差_median', '上下天数差_max', '上下天数差_mean', '上下公里数差_min', '上下公里数差_median', '上下公里数差_max', '上下公里数差_mean', 'mark']\n"
     ]
    }
   ],
   "source": [
    "same_cols=[x for x in model.columns.tolist() if x in rule.columns.tolist()]\n",
    "print(len(same_cols))\n",
    "print(same_cols)"
   ]
  },
  {
   "cell_type": "code",
   "execution_count": 24,
   "metadata": {},
   "outputs": [
    {
     "name": "stdout",
     "output_type": "stream",
     "text": [
      "(850310, 17)\n",
      "850310\n",
      "['VIN', '天数差', '下一次保养公里数', '公里数差', '最终日均', '下一次保养日期', '最后一次保养日期', '最后一次保养公里数', '上下天数差_min', '上下天数差_median', '上下天数差_max', '上下天数差_mean', '上下公里数差_min', '上下公里数差_median', '上下公里数差_max', '上下公里数差_mean', 'mark']\n"
     ]
    }
   ],
   "source": [
    "pred=pd.concat([model[same_cols],rule[same_cols]],axis=0)\n",
    "pred['下一次保养日期']=pd.to_datetime(pred['下一次保养日期'])\n",
    "print(pred.shape)\n",
    "print(pred['VIN'].nunique())\n",
    "print(pred.columns.tolist())"
   ]
  },
  {
   "cell_type": "code",
   "execution_count": 25,
   "metadata": {},
   "outputs": [],
   "source": [
    "def get_iterated(pred):\n",
    "\n",
    "    pred1=pred[pred['下一次保养日期']>today]\n",
    "    pred1['下一次保养日期_今天之后']=pred1['下一次保养日期']\n",
    "    pred1['下一次保养公里数_今天之后']=pred1['下一次保养公里数']\n",
    "    pred1['迭代次数']=0\n",
    "    print(pred1.shape)\n",
    "    print(pred1['VIN'].nunique())\n",
    "\n",
    "    pred2=pred[pred['下一次保养日期']<=today]\n",
    "    pred2['今天与预测第一次进店的天数差']=(pd.to_datetime(today)-pred2['下一次保养日期']).apply(lambda x:x.days)\n",
    "    pred2['迭代次数']=pred2['今天与预测第一次进店的天数差']/pred2['天数差']\n",
    "    pred2['迭代次数']=pred2['迭代次数'].apply(lambda x:math.ceil(x))\n",
    "    pred2['下一次保养日期_今天之后']=list(map(lambda x,y,z:x+relativedelta(days=math.ceil(y*z)),pred2['下一次保养日期'],pred2['天数差'],pred2['迭代次数']))\n",
    "    pred2['下一次保养公里数_今天之后']=list(map(lambda x,y,z:x+y*z,pred2['下一次保养公里数'],pred2['公里数差'],pred2['迭代次数']))\n",
    "    pred2['下一次保养公里数_今天之后']=pred2['下一次保养公里数_今天之后'].apply(lambda x:math.ceil(x))\n",
    "    print(pred2.shape)\n",
    "    print(pred2['VIN'].nunique())\n",
    "\n",
    "    same_cols=[x for x in pred1.columns.tolist() if x in pred2.columns.tolist()]\n",
    "    print(same_cols)\n",
    "\n",
    "    new_pred=pd.concat([pred1[same_cols],pred2[same_cols]],axis=0)\n",
    "\n",
    "    return new_pred"
   ]
  },
  {
   "cell_type": "code",
   "execution_count": 26,
   "metadata": {},
   "outputs": [
    {
     "name": "stdout",
     "output_type": "stream",
     "text": [
      "(156326, 20)\n",
      "156326\n",
      "(693984, 21)\n",
      "693984\n",
      "['VIN', '天数差', '下一次保养公里数', '公里数差', '最终日均', '下一次保养日期', '最后一次保养日期', '最后一次保养公里数', '上下天数差_min', '上下天数差_median', '上下天数差_max', '上下天数差_mean', '上下公里数差_min', '上下公里数差_median', '上下公里数差_max', '上下公里数差_mean', 'mark', '下一次保养日期_今天之后', '下一次保养公里数_今天之后', '迭代次数']\n",
      "850310\n"
     ]
    }
   ],
   "source": [
    "new_pred=get_iterated(pred)\n",
    "print(new_pred['VIN'].nunique())"
   ]
  },
  {
   "cell_type": "code",
   "execution_count": 27,
   "metadata": {},
   "outputs": [],
   "source": [
    "def get_another_date(new_pred):\n",
    "    org_zhudan=pd.read_pickle(savep+'zhudan_merged_org.pkl')\n",
    "    print(org_zhudan.columns.tolist())\n",
    "\n",
    "    org_baoyang=org_zhudan[(org_zhudan['首保']==1)|(org_zhudan['常规保养']==1)]\n",
    "    org_baoyang['修理日期']=pd.to_datetime(org_baoyang['修理日期'])\n",
    "    org_baoyang=org_baoyang.sort_values(by=['VIN','修理日期'],ascending=False).reset_index(drop=True)\n",
    "\n",
    "    last_baoyang=org_baoyang.drop_duplicates(['VIN'],keep='first').reset_index(drop=True)\n",
    "    last_baoyang=last_baoyang[['VIN','修理日期','公里数']].drop_duplicates().reset_index(drop=True)\n",
    "    last_baoyang.columns=['VIN','实际最后一次保养日期','实际最后一次保养公里数']\n",
    "\n",
    "    new_pred=new_pred.merge(last_baoyang,on=['VIN'],how='left')\n",
    "\n",
    "    print('提取购车时间')\n",
    "    veh=pd.read_pickle(savep+'vehicle_info.pkl')\n",
    "    veh.loc[veh['新购车时间'].isnull(),'新购车时间']=veh[veh['新购车时间'].isnull()]['购车时间']\n",
    "    veh1=veh[['VIN','新购车时间']].drop_duplicates().reset_index(drop=True).rename(columns={'新购车时间':'购车时间'})\n",
    "    new_pred=new_pred.merge(veh1,on=['VIN'],how='left')\n",
    "    new_pred['购车时间']=pd.to_datetime(new_pred['购车时间'])\n",
    "    new_pred.loc[new_pred['实际最后一次保养日期'].isnull(),'实际最后一次保养日期']=new_pred[new_pred['实际最后一次保养日期'].isnull()]['购车时间']\n",
    "    new_pred.loc[new_pred['实际最后一次保养公里数'].isnull(),'实际最后一次保养公里数']=0\n",
    "    print(new_pred['VIN'].nunique())\n",
    "    print(pd.isnull(new_pred[['VIN','实际最后一次保养日期','实际最后一次保养公里数']]).sum())\n",
    "\n",
    "    new_pred['下次1万公里保养公里数']=new_pred['实际最后一次保养公里数']+10000\n",
    "\n",
    "    new_pred.loc[new_pred['最终日均']<=new_pred['最终日均'].quantile(0.01),'最终日均']=new_pred['最终日均'].quantile(0.01)\n",
    "    new_pred.loc[new_pred['最终日均']>=new_pred['最终日均'].quantile(0.99),'最终日均']=new_pred['最终日均'].quantile(0.99)\n",
    "\n",
    "    new_pred['下次1万公里天数间隔']=10000/new_pred['最终日均']\n",
    "    new_pred['下次1万公里天数间隔']=new_pred['下次1万公里天数间隔'].apply(lambda x:math.ceil(x))\n",
    "    print(pd.isnull(new_pred[['VIN','下次1万公里天数间隔']]).sum())\n",
    "\n",
    "    new_pred['实际最后一次保养日期']=pd.to_datetime(new_pred['实际最后一次保养日期'])\n",
    "    new_pred['下次1万公里保养日期']=list(map(lambda x,y:x+relativedelta(days=y),new_pred['实际最后一次保养日期'],new_pred['下次1万公里天数间隔']))\n",
    "    new_pred=new_pred.drop_duplicates().reset_index(drop=True)\n",
    "    print(new_pred.shape)\n",
    "    print(new_pred['VIN'].nunique())\n",
    "    print(new_pred.columns.tolist())\n",
    "\n",
    "    new_pred=new_pred.rename(columns={'下一次保养日期':'下次保养时间_按客户习惯',\n",
    "                          '下一次保养公里数':'下次保养公里数_按客户习惯',\n",
    "                      '下一次保养日期_今天之后': '下次保养时间_当前时间之后_按客户习惯',\n",
    "                      '下一次保养公里数_今天之后': '下次保养里程_当前时间之后_按客户习惯',\n",
    "                      '下次1万公里保养日期': '下次保养时间_当前时间之后_按官方建议周期',\n",
    "                      '下次1万公里保养公里数': '下次保养里程_当前时间之后_按官方建议周期'})\n",
    "\n",
    "    return new_pred"
   ]
  },
  {
   "cell_type": "code",
   "execution_count": 28,
   "metadata": {},
   "outputs": [
    {
     "name": "stdout",
     "output_type": "stream",
     "text": [
      "['VIN', '修理日期', '公里数', '修理类型', '经销商代码', '结算单号', '委托书号', '维修金额', '维修金额_折前', '工时费', '零件费', '常规保养', '首保', '附件安装', '事故车维修', '一般维修', '普通索赔', '服务活动', '二手车认证维修', '内部车辆维修']\n",
      "提取购车时间\n",
      "850310\n",
      "VIN            0\n",
      "实际最后一次保养日期     0\n",
      "实际最后一次保养公里数    0\n",
      "dtype: int64\n",
      "VIN           0\n",
      "下次1万公里天数间隔    0\n",
      "dtype: int64\n",
      "(850310, 26)\n",
      "850310\n",
      "['VIN', '天数差', '下一次保养公里数', '公里数差', '最终日均', '下一次保养日期', '最后一次保养日期', '最后一次保养公里数', '上下天数差_min', '上下天数差_median', '上下天数差_max', '上下天数差_mean', '上下公里数差_min', '上下公里数差_median', '上下公里数差_max', '上下公里数差_mean', 'mark', '下一次保养日期_今天之后', '下一次保养公里数_今天之后', '迭代次数', '实际最后一次保养日期', '实际最后一次保养公里数', '购车时间', '下次1万公里保养公里数', '下次1万公里天数间隔', '下次1万公里保养日期']\n"
     ]
    }
   ],
   "source": [
    "new_pred_1 = get_another_date(new_pred)"
   ]
  },
  {
   "cell_type": "code",
   "execution_count": 29,
   "metadata": {},
   "outputs": [],
   "source": [
    "ziduan_name='用于易损件推荐'\n",
    "new_pred_1.to_pickle(savep+'2个预测结果_%s.pkl'%(ziduan_name))"
   ]
  },
  {
   "cell_type": "code",
   "execution_count": 30,
   "metadata": {},
   "outputs": [],
   "source": [
    "new_pred_1.to_pickle(updated_savep+'2个预测结果_%s.pkl'%(ziduan_name))"
   ]
  },
  {
   "cell_type": "markdown",
   "metadata": {},
   "source": [
    "### <font color=red>scp -r /home/jupyter/LQ/VW/updated_data_toChongGui/0_月更 root@192.168.1.253:/home/jupyter/LQ"
   ]
  },
  {
   "cell_type": "markdown",
   "metadata": {},
   "source": [
    "### <font color=red>第二部分:易损件推荐"
   ]
  },
  {
   "cell_type": "markdown",
   "metadata": {},
   "source": [
    "#### 陆琴，你那边修改下，易损件推荐删除转向助力液，正时皮带正更新为正时皮带链条"
   ]
  },
  {
   "cell_type": "markdown",
   "metadata": {},
   "source": [
    "#### 对了，易损件提醒里面，转向助力液删掉，空滤删掉，正式皮带变成正时皮带/链条"
   ]
  },
  {
   "cell_type": "code",
   "execution_count": 32,
   "metadata": {},
   "outputs": [],
   "source": [
    "def get_car_type(veh):#14\n",
    "    veh.loc[(veh['一级车系']=='Polo')&(veh['二级车系']=='非电动车'),'推荐车型']='A'\n",
    "    veh.loc[(veh['一级车系']=='途观')&(veh['二级车系']=='非电动车'),'推荐车型']='B'\n",
    "    veh.loc[(veh['一级车系']=='途观')&(veh['二级车系']=='电动车'),'推荐车型']='C'\n",
    "    veh.loc[(veh['一级车系']=='辉昂')&(veh['二级车系']=='非电动车'),'推荐车型']='D'\n",
    "    veh.loc[(veh['一级车系']=='朗逸')&(veh['二级车系']=='非电动车'),'推荐车型']='E' #有待跟进,是朗逸电动车A版\n",
    "    veh.loc[(veh['一级车系']=='朗逸')&(veh['二级车系']=='电动车'),'推荐车型']='F'\n",
    "    veh.loc[(veh['一级车系']=='凌渡')&(veh['二级车系']=='非电动车'),'推荐车型']='G'\n",
    "    veh.loc[(veh['一级车系']=='帕萨特')&(veh['二级车系']=='非电动车'),'推荐车型']='H'\n",
    "    veh.loc[(veh['一级车系']=='帕萨特')&(veh['二级车系']=='电动车'),'推荐车型']='I'\n",
    "    veh.loc[(veh['一级车系']=='途安')&(veh['二级车系']=='非电动车'),'推荐车型']='J'\n",
    "    veh.loc[(veh['一级车系']=='途昂')&(veh['二级车系']=='非电动车'),'推荐车型']='K'\n",
    "    veh.loc[(veh['一级车系']=='途铠')&(veh['二级车系']=='非电动车'),'推荐车型']='M'\n",
    "    veh.loc[(veh['一级车系']=='途岳')&(veh['二级车系']=='非电动车'),'推荐车型']='N'\n",
    "    veh.loc[(veh['一级车系']=='桑塔纳')&(veh['二级车系']=='非电动车'),'推荐车型']='O'\n",
    "    return veh\n",
    "\n",
    "def yanghu_yisun_interval(dt,today1):\n",
    "    dt['feature_stop_time']=today1\n",
    "    dt['修理日期']=pd.to_datetime(dt['修理日期'])\n",
    "    dt['公里数']=dt['公里数'].astype(float)\n",
    "    \n",
    "    dt = dt[['VIN','find', '公里数', '修理日期','feature_stop_time']].drop_duplicates()\n",
    "    dt = dt.sort_values(['VIN','find','修理日期'],ascending = [False,False,False]).reset_index(drop=True)\n",
    "    dt['last_修理日期'] = dt.groupby(['find','VIN'])['修理日期'].shift(-1)\n",
    "    dt['last_公里数'] = dt.groupby(['find','VIN'])['公里数'].shift(-1)\n",
    "    dt['yy_mile_avg'] = dt['公里数'] - dt['last_公里数']\n",
    "    dt['yy_day_avg'] = (dt['修理日期'] - dt['last_修理日期']).apply(lambda x:x.days)\n",
    "    dt['yy_last_mile'] = dt['公里数']\n",
    "    dt['yy_last_time'] = dt['修理日期']\n",
    "    dt['yy_last_time_interval'] = list(map(lambda x,y:(x-y).days,dt['feature_stop_time'], dt['修理日期']))\n",
    "    dt = dt.drop_duplicates(['VIN','find'],keep='first').reset_index(drop=True)\n",
    "    dt = dt[['VIN','find','yy_mile_avg','yy_day_avg','yy_last_mile','yy_last_time','yy_last_time_interval']].drop_duplicates().reset_index(drop=True)\n",
    "    a = dt.pivot(index = 'VIN',columns = 'find',values = ['yy_mile_avg','yy_day_avg','yy_last_mile','yy_last_time','yy_last_time_interval'])\n",
    "    a.columns = ['_'.join(x) for x in a.columns] \n",
    "    a = a.reset_index()    \n",
    "    return a\n",
    "\n",
    "def yisun_recommend(wbb,next_inshop_df,yisun_list,yisun_df,ziduan_name):\n",
    "    sel_cols_1= []\n",
    "    for x in ['yy_last_mile_','yy_last_time_','yy_mile_avg_','yy_day_avg_']:\n",
    "        for y in yisun_list:   \n",
    "            sel_cols_1.append(x+y)        \n",
    "    sel_cols_1 = ['VIN']+sel_cols_1\n",
    "    \n",
    "    no_in=[x for x in sel_cols_1 if x not in wbb.columns.tolist()]\n",
    "    for c in no_in:\n",
    "        wbb[c]=np.nan\n",
    "    \n",
    "    yisun_fea_interval = wbb[sel_cols_1]\n",
    "    \n",
    "    print('wbb表格的情况 ',wbb.shape)\n",
    "    wb = wbb.merge(next_inshop_df[['VIN','mile_next','next_repare_time_']],on='VIN',how='left')\n",
    "    print('wb表格的情况 ',wb.shape)\n",
    "    wb = wb.merge(yisun_df[['VIN','推荐车型','购车时间','排量','车辆类型','车型档次']],on='VIN',how='left').rename(columns = {'购车时间':'purchase_date'})\n",
    "    wb['车型档次']=wb['车型档次'].map({'高档':4,'中高档':3,'中低档':2,'低档':1})\n",
    "    \n",
    "    wb['next_repare_time_']=pd.to_datetime(wb['next_repare_time_'])\n",
    "    wb['purchase_date']=pd.to_datetime(wb['purchase_date'])\n",
    "    wb['mile_next']=wb['mile_next'].apply(float)\n",
    "    \n",
    "#     c1='发动机油'\n",
    "#     wb['yy_day_avg_%s_g'%c1] = 365\n",
    "#     wb['yy_mile_avg_%s_g'%c1] = np.nan\n",
    "#     wb.loc[(pd.isna(wb['yy_mile_avg_%s'%c1]))&(wb['推荐车型']!='C'),'yy_mile_avg_%s_g'%c1] = 5000\n",
    "#     wb.loc[(~(pd.isna(wb['yy_mile_avg_%s'%c1])))&(wb['推荐车型']!='C'),'yy_mile_avg_%s_g'%c1] = 10000\n",
    "    \n",
    "    c1='机滤'\n",
    "    wb['yy_day_avg_%s_g'%c1] = 365\n",
    "    wb['yy_mile_avg_%s_g'%c1] = np.nan\n",
    "    wb.loc[(pd.isna(wb['yy_mile_avg_%s'%c1]))&(wb['推荐车型']!='F'),'yy_mile_avg_%s_g'%c1] = 5000\n",
    "    wb.loc[(~(pd.isna(wb['yy_mile_avg_%s'%c1])))&(wb['推荐车型']!='F'),'yy_mile_avg_%s_g'%c1] = 10000\n",
    "    \n",
    "#     c1='空滤'\n",
    "#     wb['yy_day_avg_%s_g'%c1] = 365*2\n",
    "#     wb['yy_mile_avg_%s_g'%c1] = 20000\n",
    "\n",
    "    c1='燃油滤清器'\n",
    "    wb.loc[wb['推荐车型'].isin(['B','J','E']),'yy_day_avg_%s_g'%c1] = np.nan\n",
    "    wb.loc[wb['推荐车型'].isin(['B','J','E']),'yy_mile_avg_%s_g'%c1] = 60000\n",
    "    \n",
    "#     涡轮增压TSI\n",
    "#     自然吸气MPI\n",
    "#     c1='火花塞'\n",
    "#     wb.loc[wb['推荐车型'].isin(['E']),'yy_day_avg_%s_g'%c1] = 365*2\n",
    "#     wb.loc[wb['推荐车型'].isin(['A','L']),'yy_mile_avg_%s_g'%c1] = 30000\n",
    "#     wb.loc[wb['推荐车型'].isin(['B','E','G','C','H','F','I','K']),'yy_mile_avg_%s_g'%c1] = 20000\n",
    "#     wb.loc[(wb['推荐车型'].isin(['D','H','J']))&(wb['进气方式']=='涡轮增压'),'yy_mile_avg_%s_g'%c1] = 20000\n",
    "#     wb.loc[(wb['推荐车型'].isin(['D','H','J']))&(wb['进气方式']=='自然吸气'),'yy_mile_avg_%s_g'%c1] = 30000    \n",
    "    \n",
    "    c1='变速箱油'\n",
    "    wb.loc[(~wb['推荐车型'].isin(['F','G'])),'yy_day_avg_%s_g'%c1] = np.nan\n",
    "    wb.loc[(~wb['推荐车型'].isin(['F','G'])),'yy_mile_avg_%s_g'%c1] = 60000\n",
    "    \n",
    "    c1='楔形皮带'\n",
    "    wb['yy_day_avg_%s_g'%c1] =np.nan\n",
    "    wb.loc[(wb['推荐车型'].isin(['A','B','E','G','H','J','K','M','N','O'])),'yy_mile_avg_%s_g'%c1] =100000\n",
    "    wb.loc[(wb['推荐车型']=='D')&(wb['排量']=='2.0'),'yy_mile_avg_%s_g'%c1] = 100000 \n",
    "    wb.loc[(wb['推荐车型']=='D')&(wb['排量']=='3.0'),'yy_mile_avg_%s_g'%c1] = 60000 \n",
    "    \n",
    "    c1='制动液'\n",
    "    wb.loc[(pd.isna(wb['yy_mile_avg_%s'%c1]))&(wb['推荐车型'].isin(['A','B','C','D','G','H','K','M','N'])),'yy_day_avg_%s_g'%c1] =3\n",
    "    wb.loc[(~(pd.isna(wb['yy_mile_avg_%s'%c1])))&(wb['推荐车型'].isin(['A','B','C','D','G','H','K','M','N'])),'yy_day_avg_%s_g'%c1] = 2\n",
    "    wb.loc[(pd.isna(wb['yy_mile_avg_%s'%c1]))&(wb['推荐车型'].isin(['E','F','J','O']))&\n",
    "           (wb['车辆类型']!='营运车'),'yy_day_avg_%s_g'%c1] =3\n",
    "    wb.loc[(~(pd.isna(wb['yy_mile_avg_%s'%c1])))&(wb['推荐车型'].isin(['E','F','J','O']))\n",
    "           &(wb['车辆类型']!='营运车'),'yy_day_avg_%s_g'%c1] = 2\n",
    "    wb.loc[(wb['推荐车型'].isin(['E','F','J','O']))&\n",
    "           (wb['车辆类型']=='营运车'),'yy_day_avg_%s_g'%c1] =2\n",
    "    wb.loc[(wb['推荐车型'].isin(['E','F','J','O']))&\n",
    "           (wb['车辆类型']=='营运车'),'yy_mile_avg_%s_g'%c1] =50000\n",
    "\n",
    "#     c1='轮胎'\n",
    "#     wb.loc[wb['推荐车型']=='C','yy_day_avg_%s_g'%c1] = 365/2\n",
    "#     wb.loc[wb['推荐车型']!='C','yy_day_avg_%s_g'%c1] = 365\n",
    "#     wb.loc[wb['推荐车型']=='C','yy_mile_avg_%s_g'%c1] = 5000\n",
    "#     wb.loc[(pd.isna(wb['yy_mile_avg_%s'%c1])),'yy_mile_avg_%s_g'%c1] = 5000\n",
    "#     wb.loc[(~(pd.isna(wb['yy_mile_avg_%s'%c1])))&(wb['推荐车型']!='C'),'yy_mile_avg_%s_g'%c1] = 10000\n",
    "\n",
    "#     c1='电瓶/蓄电池'\n",
    "#     wb.loc[wb['推荐车型']=='C','yy_day_avg_%s_g'%c1] = 365/2\n",
    "#     wb.loc[wb['推荐车型']!='C','yy_day_avg_%s_g'%c1] = 365\n",
    "#     wb.loc[wb['推荐车型']=='C','yy_mile_avg_%s_g'%c1] = 5000\n",
    "#     wb.loc[(pd.isna(wb['yy_mile_avg_%s'%c1])),'yy_mile_avg_%s_g'%c1] = 5000\n",
    "#     wb.loc[(~(pd.isna(wb['yy_mile_avg_%s'%c1])))&(wb['推荐车型']!='C'),'yy_mile_avg_%s_g'%c1] = 10000\n",
    "    \n",
    "    c1='正时皮带'\n",
    "    wb.loc[(wb['车型档次']==1),'yy_mile_avg_%s_g'%c1]=64705\n",
    "    wb.loc[(wb['车型档次']==1),'yy_day_avg_%s_g'%c1]=1584\n",
    "    wb.loc[(wb['车型档次']==2),'yy_mile_avg_%s_g'%c1]=82742.5\n",
    "    wb.loc[(wb['车型档次']==2),'yy_day_avg_%s_g'%c1]=1763.5\n",
    "    wb.loc[(wb['车型档次']==3),'yy_mile_avg_%s_g'%c1]=128019\n",
    "    wb.loc[(wb['车型档次']==3),'yy_day_avg_%s_g'%c1]=1660\n",
    "    \n",
    "#     c1='雨刮片'\n",
    "#     wb['yy_mile_avg_%s_g'%c1] = 10000\n",
    "#     wb['yy_day_avg_%s_g'%c1] = 365\n",
    "    \n",
    "#     c1='刹车片'\n",
    "#     wb['yy_mile_avg_%s_g'%c1] = 10000\n",
    "#     wb['yy_day_avg_%s_g'%c1] = 365\n",
    "    \n",
    "#     c1='刹车盘/制动盘'\n",
    "#     wb['yy_mile_avg_%s_g'%c1] = 10000\n",
    "#     wb['yy_day_avg_%s_g'%c1] = 365\n",
    "    \n",
    "#     c1='冷却液/防冻液' \n",
    "#     wb.loc[wb['推荐车型']=='C','yy_day_avg_%s_g'%c1] = 365/2\n",
    "#     wb.loc[wb['推荐车型']!='C','yy_day_avg_%s_g'%c1] = 365\n",
    "#     wb.loc[wb['推荐车型']=='C','yy_mile_avg_%s_g'%c1] = 5000\n",
    "#     wb.loc[(pd.isna(wb['yy_mile_avg_%s'%c1])),'yy_mile_avg_%s_g'%c1] = 5000\n",
    "#     wb.loc[(~(pd.isna(wb['yy_mile_avg_%s'%c1])))&(wb['推荐车型']!='C'),'yy_mile_avg_%s_g'%c1] = 10000\n",
    "    \n",
    "    c1='点火线圈'\n",
    "    wb.loc[(wb['车型档次']==1),'yy_mile_avg_%s_g'%c1]=66115\n",
    "    wb.loc[(wb['车型档次']==1),'yy_day_avg_%s_g'%c1]=1255\n",
    "    wb.loc[(wb['车型档次']==2),'yy_mile_avg_%s_g'%c1]=70478.5\n",
    "    wb.loc[(wb['车型档次']==2),'yy_day_avg_%s_g'%c1]=1348\n",
    "    wb.loc[(wb['车型档次']==3),'yy_mile_avg_%s_g'%c1]=95549.5\n",
    "    wb.loc[(wb['车型档次']==3),'yy_day_avg_%s_g'%c1]=1516.5\n",
    "    wb.loc[(wb['车型档次']==4),'yy_mile_avg_%s_g'%c1]=41845\n",
    "    wb.loc[(wb['车型档次']==4),'yy_day_avg_%s_g'%c1]=455\n",
    "    \n",
    "    c1='冷却系统养护'\n",
    "    wb['yy_day_avg_%s_g'%c1] = 365*2\n",
    "    wb['yy_mile_avg_%s_g'%c1] = 20000\n",
    "#     wb.loc[(wb['车型档次']==1),'yy_mile_avg_%s_g'%c1]=44518\n",
    "#     wb.loc[(wb['车型档次']==1),'yy_day_avg_%s_g'%c1]=1417\n",
    "#     wb.loc[(wb['车型档次']==2),'yy_mile_avg_%s_g'%c1]=50037.5\n",
    "#     wb.loc[(wb['车型档次']==2),'yy_day_avg_%s_g'%c1]=1385.5\n",
    "#     wb.loc[(wb['车型档次']==3),'yy_mile_avg_%s_g'%c1]=55205.5\n",
    "#     wb.loc[(wb['车型档次']==3),'yy_day_avg_%s_g'%c1]=1439\n",
    "#     wb.loc[(wb['车型档次']==4),'yy_mile_avg_%s_g'%c1]=52531\n",
    "#     wb.loc[(wb['车型档次']==4),'yy_day_avg_%s_g'%c1]=614\n",
    "    \n",
    "    c1='绿色养护'\n",
    "    wb.loc[(wb['车型档次']==1),'yy_mile_avg_%s_g'%c1]=26456\n",
    "    wb.loc[(wb['车型档次']==1),'yy_day_avg_%s_g'%c1]=920\n",
    "    wb.loc[(wb['车型档次']==2),'yy_mile_avg_%s_g'%c1]=30000\n",
    "    wb.loc[(wb['车型档次']==2),'yy_day_avg_%s_g'%c1]=868\n",
    "    wb.loc[(wb['车型档次']==3),'yy_mile_avg_%s_g'%c1]=31449\n",
    "    wb.loc[(wb['车型档次']==3),'yy_day_avg_%s_g'%c1]=867\n",
    "    wb.loc[(wb['车型档次']==4),'yy_mile_avg_%s_g'%c1]=24983.5\n",
    "    wb.loc[(wb['车型档次']==4),'yy_day_avg_%s_g'%c1]=400\n",
    "\n",
    "    c1='减振器'\n",
    "    wb.loc[(wb['车型档次']==1),'yy_mile_avg_%s_g'%c1]=28338\n",
    "    wb.loc[(wb['车型档次']==1),'yy_day_avg_%s_g'%c1]=791\n",
    "    wb.loc[(wb['车型档次']==2),'yy_mile_avg_%s_g'%c1]=31586\n",
    "    wb.loc[(wb['车型档次']==2),'yy_day_avg_%s_g'%c1]=679\n",
    "    wb.loc[(wb['车型档次']==3),'yy_mile_avg_%s_g'%c1]=39199.5\n",
    "    wb.loc[(wb['车型档次']==3),'yy_day_avg_%s_g'%c1]=790\n",
    "    wb.loc[(wb['车型档次']==4),'yy_mile_avg_%s_g'%c1]=18743\n",
    "    wb.loc[(wb['车型档次']==4),'yy_day_avg_%s_g'%c1]=371\n",
    "    \n",
    "    c1='变速箱滤清器'\n",
    "    wb.loc[(wb['车型档次']==1),'yy_mile_avg_%s_g'%c1]=88351\n",
    "    wb.loc[(wb['车型档次']==1),'yy_day_avg_%s_g'%c1]=1253\n",
    "    wb.loc[(wb['车型档次']==2),'yy_mile_avg_%s_g'%c1]=66680.5\n",
    "    wb.loc[(wb['车型档次']==2),'yy_day_avg_%s_g'%c1]=1155.5\n",
    "    wb.loc[(wb['车型档次']==3),'yy_mile_avg_%s_g'%c1]=65167.5\n",
    "    wb.loc[(wb['车型档次']==3),'yy_day_avg_%s_g'%c1]=934.5\n",
    "    wb.loc[(wb['车型档次']==4),'yy_mile_avg_%s_g'%c1]=62547\n",
    "    wb.loc[(wb['车型档次']==4),'yy_day_avg_%s_g'%c1]=677\n",
    "    \n",
    "    c1='空调冷媒'\n",
    "    wb.loc[(wb['车型档次']==1),'yy_mile_avg_%s_g'%c1]=30334\n",
    "    wb.loc[(wb['车型档次']==1),'yy_day_avg_%s_g'%c1]=791\n",
    "    wb.loc[(wb['车型档次']==2),'yy_mile_avg_%s_g'%c1]=31778.5\n",
    "    wb.loc[(wb['车型档次']==2),'yy_day_avg_%s_g'%c1]=757\n",
    "    wb.loc[(wb['车型档次']==3),'yy_mile_avg_%s_g'%c1]=42089\n",
    "    wb.loc[(wb['车型档次']==3),'yy_day_avg_%s_g'%c1]=802\n",
    "    wb.loc[(wb['车型档次']==4),'yy_mile_avg_%s_g'%c1]=20222\n",
    "    wb.loc[(wb['车型档次']==4),'yy_day_avg_%s_g'%c1]=356.5\n",
    "\n",
    "#     c1='转向助力液'\n",
    "#     wb.loc[(wb['车型档次']==2),'yy_mile_avg_%s_g'%c1]=73520.5\n",
    "#     wb.loc[(wb['车型档次']==2),'yy_day_avg_%s_g'%c1]=2391\n",
    "#     wb.loc[(wb['车型档次']==3),'yy_mile_avg_%s_g'%c1]=84015\n",
    "#     wb.loc[(wb['车型档次']==3),'yy_day_avg_%s_g'%c1]=2401\n",
    "    \n",
    "    rate = 0.8\n",
    "    rate1=0.2\n",
    "    for x in yisun_list:\n",
    "        print(x)\n",
    "        wb['yy_last_time_'+x] = pd.to_datetime(wb['yy_last_time_'+x])\n",
    "        wb.loc[pd.isna(wb['yy_last_time_'+x]),'mile_gap_'+x] = wb['mile_next']\n",
    "        wb.loc[~(pd.isna(wb['yy_last_time_'+x])),'mile_gap_'+x] = wb['mile_next'] - wb['yy_last_mile_'+x]\n",
    "    \n",
    "        wb['day_gap_0_'+x] = list(map(lambda x,y:(x-y).days,wb['next_repare_time_'],wb['yy_last_time_'+x]))\n",
    "        wb['day_gap_1_'+x] = list(map(lambda x,y:(x-y).days,wb['next_repare_time_'],wb['purchase_date']))\n",
    "        \n",
    "        wb.loc[~(pd.isnull(wb['yy_last_time_'+x])),'day_gap_'+x] = wb['day_gap_0_'+x]\n",
    "        wb.loc[pd.isnull(wb['yy_last_time_'+x]),'day_gap_'+x] = wb['day_gap_1_'+x]\n",
    "#        对于有更换时间，却没有更换里程的vin，只用时间做判断,个人习惯小于官方建议*0.67，视为异常值，小于0，视为异常\n",
    "        wb.loc[(~pd.isnull(wb['yy_last_time_'+x])) & (pd.isnull(wb['yy_last_time_'+x])),'mile_gap_'+x] = np.nan\n",
    "       \n",
    "        wb.loc[(wb['yy_mile_avg_'+x] < 0.67*wb['yy_mile_avg_'+x+'_g']) | (wb['yy_mile_avg_'+x] >1.5 *wb['yy_mile_avg_'+x+'_g']),'yy_mile_avg_'+x] = np.nan\n",
    "        wb.loc[(wb['yy_day_avg_'+x] < 0.67*wb['yy_day_avg_'+x+'_g']) | (wb['yy_day_avg_'+x] >1.5*wb['yy_day_avg_'+x+'_g']),'yy_day_avg_'+x] = np.nan\n",
    "       \n",
    "        wb.loc[pd.isna(wb['yy_mile_avg_'+x+'_g']),'yy_mile_avg_'+x] = np.nan\n",
    "        wb.loc[pd.isna(wb['yy_day_avg_'+x+'_g']) ,'yy_day_avg_'+x] = np.nan\n",
    "\n",
    "        wb[x+'_mile_0'] = list(map(lambda mile_gap,avg_mile:(mile_gap%avg_mile>avg_mile*rate) or (mile_gap> avg_mile and mile_gap%avg_mile < avg_mile*rate1) ,wb['mile_gap_'+x],wb['yy_mile_avg_'+x]))\n",
    "        wb[x+'_day_0'] = list(map(lambda day_gap,avg_day:(day_gap%avg_day>avg_day*rate) or (day_gap>avg_day and day_gap%avg_day<avg_day*rate1),wb['day_gap_'+x],wb['yy_day_avg_'+x]))\n",
    "        wb[x+'_mile_1'] = list(map(lambda mile_gap,avg_mile:(mile_gap%avg_mile>avg_mile*rate) or (mile_gap> avg_mile and mile_gap%avg_mile < avg_mile*rate1) ,wb['mile_gap_'+x],wb['yy_mile_avg_'+x+'_g']))\n",
    "        wb[x+'_day_1'] = list(map(lambda day_gap,avg_day:(day_gap%avg_day>avg_day*rate) or (day_gap>avg_day and day_gap%avg_day<avg_day*rate1),wb['day_gap_'+x],wb['yy_day_avg_'+x+'_g']))\n",
    "        \n",
    "        wb[x+'reason_mile_0'] = list(map(lambda x,y:'用户习惯,满'+str(round(y/10000,1))+'万公里' if x else '-',wb[x+'_mile_0'],wb['yy_mile_avg_'+x]))\n",
    "        wb[x+'reason_mile_1'] = list(map(lambda x,y:'官方手册,满'+str(round(y/10000,1))+'万公里' if x else '-',wb[x+'_mile_1'],wb['yy_mile_avg_'+x+'_g']))\n",
    "        wb[x+'reason_day_0'] = list(map(lambda x,y:'用户习惯,满'+str(int(y/365))+'年'if y>= 365 else '用户习惯,满'+str(int(y))+'天' if x else '-',wb[x+'_day_0'],wb['yy_day_avg_'+x]))\n",
    "#        wb[x+'reason_day_0'] = list(map(lambda x,y:'用户习惯,满'+str(int(y/365))+'年' if x else '-',wb[x+'_day_0'],wb['yy_day_avg_'+x]))\n",
    "        wb[x+'reason_day_1'] = list(map(lambda x,y:'官方手册,满'+str(int(y/365))+'年' if x else '-',wb[x+'_day_1'],wb['yy_day_avg_'+x+'_g']))\n",
    "        \n",
    "        wb[x+'_reason'] = wb[x+'reason_mile_1']\n",
    "        wb.loc[wb[x+'_reason'] == '-',x+'_reason'] = wb[x+'reason_day_1']\n",
    "        wb.loc[wb[x+'_reason'] == '-',x+'_reason'] = wb[x+'reason_mile_0']\n",
    "        wb.loc[wb[x+'_reason'] == '-',x+'_reason'] = wb[x+'reason_day_0']\n",
    "        wb[x] = list(map(lambda x,y,w,z:'是' if x|y|w|z else '否',wb[x+'_mile_0'],wb[x+'_day_0'],wb[x+'_mile_1'],wb[x+'_day_1']))\n",
    "    \n",
    "    col_list1=[]\n",
    "    for col in yisun_list:\n",
    "        if col!='正时皮带':\n",
    "            wb.rename(columns={col:'%s_%s_是否推荐'%(col,ziduan_name)},inplace=True)\n",
    "            col_list1.append('%s_%s_是否推荐'%(col,ziduan_name))\n",
    "        else:\n",
    "            wb.rename(columns={col:'%s/链条_%s_是否推荐'%(col,ziduan_name)},inplace=True)\n",
    "            col_list1.append('%s/链条_%s_是否推荐'%(col,ziduan_name))\n",
    "        \n",
    "    col_list2=[]\n",
    "    for col in yisun_list:\n",
    "        if col!='正时皮带':\n",
    "            wb.rename(columns={'%s_reason'%col:'%s_推荐理由_%s'%(col,ziduan_name)},inplace=True)\n",
    "            col_list2.append('%s_推荐理由_%s'%(col,ziduan_name))\n",
    "        else:\n",
    "            wb.rename(columns={'%s_reason'%col:'%s/链条_推荐理由_%s'%(col,ziduan_name)},inplace=True)\n",
    "            col_list2.append('%s/链条_推荐理由_%s'%(col,ziduan_name))            \n",
    "    wb_s = wb[['VIN']+col_list1+col_list2]  \n",
    "    gc.collect()\n",
    "    return wb_s,wb\n",
    "\n",
    "def get_concat(a,c,d,e,f,g,h,i,j,k,l,m):\n",
    "    lst=[]\n",
    "    if a=='是':\n",
    "        lst.append('机滤')\n",
    "    if c=='是':\n",
    "        lst.append('燃油滤清器')\n",
    "    if d=='是':\n",
    "        lst.append('变速箱油')\n",
    "    if e=='是':\n",
    "        lst.append('楔形皮带')\n",
    "    if f=='是':\n",
    "        lst.append('制动液')\n",
    "    if g=='是':\n",
    "        lst.append('正时皮带/链条')\n",
    "    if h=='是':\n",
    "        lst.append('点火线圈')\n",
    "    if i=='是':\n",
    "        lst.append('冷却系统养护')\n",
    "    if j=='是':\n",
    "        lst.append('绿色养护')\n",
    "    if k=='是':\n",
    "        lst.append('减振器')\n",
    "    if l=='是':\n",
    "        lst.append('变速箱滤清器')\n",
    "    if m=='是':\n",
    "        lst.append('空调冷媒')\n",
    "    return ','.join(lst)\n",
    "\n",
    "# 润滑系统,5000公里\n",
    "# 燃油系统,15000公里\n",
    "# 进气系统,10000公里\n",
    "# 冷却系统,每2年或2万公里保养使用一次,放到wb中计算\n",
    "# 空调系统,春/夏/秋每季保养一次,其中冷气强化剂,春/夏交替时保养一次,这个只要气节符合,门店销售可以直接推荐\n",
    "# 绿色养护,建议每月保养一次,门店销售可以直接推荐\n",
    "\n",
    "def yisun_reminder(yisun_df,veh,veh3,pred,savep,updated_savep,today,yisun_list):\n",
    "    \n",
    "    veh1=veh[['VIN','技术代码','排量','进气方式','车辆类型']].drop_duplicates()\n",
    "    print(veh1.shape)\n",
    "    print(veh1['VIN'].nunique())\n",
    "\n",
    "    veh2=veh[['VIN','一级车系','二级车系','车型档次']].drop_duplicates().reset_index(drop=True)\n",
    "    print(veh2.shape)\n",
    "    print(veh2['VIN'].nunique())\n",
    "    \n",
    "    veh3=veh3[['VIN','购车时间']].drop_duplicates().reset_index(drop=True)\n",
    "    print(veh3.shape)\n",
    "    print(veh3['VIN'].nunique())\n",
    "    \n",
    "    yisun_df=yisun_df.merge(veh1,on=['VIN'],how='left').merge(veh2,on=['VIN'],how='left').merge(veh3,on=['VIN'],how='left')\n",
    "    yisun_df['购车时间']=pd.to_datetime(yisun_df['购车时间'])\n",
    "    yisun_df=get_car_type(yisun_df)\n",
    "    \n",
    "    wbb=yanghu_yisun_interval(yisun_df,pd.to_datetime(today))\n",
    "\n",
    "#     yisun_list=['机滤','燃油滤清器','变速箱油','楔形皮带','制动液','正时皮带','点火线圈','冷却系统养护',\n",
    "#             '绿色养护','减振器','变速箱滤清器','空调冷媒']\n",
    "    \n",
    "    print('根据预测的公里数与天数差')\n",
    "    s1=time.time()\n",
    "    print(datetime.now())\n",
    "    next_inshop1=pred[['VIN','下次保养时间_当前时间之后_按客户习惯', '下次保养里程_当前时间之后_按客户习惯']].drop_duplicates().reset_index(drop=True)\n",
    "    next_inshop1.rename(columns={'下次保养里程_当前时间之后_按客户习惯':'mile_next',\n",
    "                                 '下次保养时间_当前时间之后_按客户习惯':'next_repare_time_'},inplace=True)\n",
    "\n",
    "    ziduan_name='模型预测'\n",
    "    wb_s1,wb1= yisun_recommend(wbb,next_inshop1,yisun_list,yisun_df,ziduan_name)\n",
    "    wb_s1=wb_s1.drop_duplicates().reset_index(drop=True)\n",
    "    wb_s1.to_pickle(savep+'易损件提醒_%s.pkl'%(yisun_list[0]))\n",
    "    print('run time is:',(time.time()-s1)/60)\n",
    "    \n",
    "    # wb1=wb1.drop_duplicates().reset_index(drop=True)\n",
    "    # wb1.to_excel(savep+'易损件提醒check_%s.xlsx'%(dt),index = False,encoding='gbk')\n",
    "    \n",
    "    print('='*40)\n",
    "    print('根据预测的日均与养护官方建议的')\n",
    "    s1=time.time()\n",
    "    print(datetime.now())\n",
    "    next_inshop2=pred[['VIN','下次保养时间_当前时间之后_按官方建议周期','下次保养里程_当前时间之后_按官方建议周期']].drop_duplicates().reset_index(drop=True)\n",
    "    next_inshop2.rename(columns={'下次保养里程_当前时间之后_按官方建议周期':'mile_next',\n",
    "                                 '下次保养时间_当前时间之后_按官方建议周期':'next_repare_time_'},inplace=True)\n",
    "\n",
    "    ziduan_name='根据每1万公里保养建议'\n",
    "    wb_s2,wb2=yisun_recommend(wbb,next_inshop2,yisun_list,yisun_df,ziduan_name)\n",
    "    wb_s2=wb_s2.drop_duplicates().reset_index(drop=True)\n",
    "    wb_s2.to_pickle(savep+'易损件提醒_1万养护周期_%s.pkl'%(yisun_list[0]))  \n",
    "    print('run time is:',(time.time()-s1)/60)\n",
    "    # wb2=wb2.drop_duplicates().reset_index(drop=True)\n",
    "    # wb2.to_excel(savep+'易损件提醒check_1万养护周期_%s.xlsx'%(dt),index = False,encoding='gbk')\n",
    "\n",
    "    return wb_s1,wb_s2"
   ]
  },
  {
   "cell_type": "code",
   "execution_count": 34,
   "metadata": {},
   "outputs": [],
   "source": [
    "yisun_df=pd.read_pickle(savep+'yanghu_yisun_df.pkl')\n",
    "veh=pd.read_pickle(savep+'vehicle_info.pkl')\n",
    "veh3=pd.read_pickle(savep+'final_zhudan.pkl')\n",
    "pred=pd.read_pickle(savep+'2个预测结果_用于易损件推荐.pkl')"
   ]
  },
  {
   "cell_type": "code",
   "execution_count": 35,
   "metadata": {},
   "outputs": [],
   "source": [
    "yisun_list=['机滤','燃油滤清器','变速箱油','楔形皮带','制动液','正时皮带','点火线圈','冷却系统养护',\n",
    "            '绿色养护','减振器','变速箱滤清器','空调冷媒']"
   ]
  },
  {
   "cell_type": "code",
   "execution_count": 36,
   "metadata": {},
   "outputs": [
    {
     "name": "stdout",
     "output_type": "stream",
     "text": [
      "(850310, 5)\n",
      "850310\n",
      "(850310, 4)\n",
      "850310\n",
      "(804143, 2)\n",
      "804143\n",
      "根据预测的公里数与天数差\n",
      "2020-10-24 12:03:26.879560\n",
      "wbb表格的情况  (773925, 141)\n",
      "wb表格的情况  (773925, 143)\n",
      "机滤\n",
      "燃油滤清器\n",
      "变速箱油\n",
      "楔形皮带\n",
      "制动液\n",
      "正时皮带\n",
      "点火线圈\n",
      "冷却系统养护\n",
      "绿色养护\n",
      "减振器\n",
      "变速箱滤清器\n",
      "空调冷媒\n",
      "run time is: 230.11751805146534\n",
      "========================================\n",
      "根据预测的日均与养护官方建议的\n",
      "2020-10-24 15:53:33.931598\n",
      "wbb表格的情况  (773925, 141)\n",
      "wb表格的情况  (773925, 143)\n",
      "机滤\n",
      "燃油滤清器\n",
      "变速箱油\n",
      "楔形皮带\n",
      "制动液\n",
      "正时皮带\n",
      "点火线圈\n",
      "冷却系统养护\n",
      "绿色养护\n",
      "减振器\n",
      "变速箱滤清器\n",
      "空调冷媒\n",
      "run time is: 220.20942145586014\n"
     ]
    }
   ],
   "source": [
    "wb_s1,wb_s2=yisun_reminder(yisun_df,veh,veh3,pred,savep,updated_savep,today,yisun_list)"
   ]
  },
  {
   "cell_type": "code",
   "execution_count": 37,
   "metadata": {},
   "outputs": [
    {
     "data": {
      "text/html": [
       "<div>\n",
       "<style scoped>\n",
       "    .dataframe tbody tr th:only-of-type {\n",
       "        vertical-align: middle;\n",
       "    }\n",
       "\n",
       "    .dataframe tbody tr th {\n",
       "        vertical-align: top;\n",
       "    }\n",
       "\n",
       "    .dataframe thead th {\n",
       "        text-align: right;\n",
       "    }\n",
       "</style>\n",
       "<table border=\"1\" class=\"dataframe\">\n",
       "  <thead>\n",
       "    <tr style=\"text-align: right;\">\n",
       "      <th></th>\n",
       "      <th>下次产品更换提醒_当前时间之后_按客户习惯</th>\n",
       "    </tr>\n",
       "  </thead>\n",
       "  <tbody>\n",
       "    <tr>\n",
       "      <th>0</th>\n",
       "      <td>制动液,冷却系统养护</td>\n",
       "    </tr>\n",
       "    <tr>\n",
       "      <th>1</th>\n",
       "      <td>机滤,燃油滤清器,变速箱油</td>\n",
       "    </tr>\n",
       "    <tr>\n",
       "      <th>2</th>\n",
       "      <td>机滤,楔形皮带,冷却系统养护</td>\n",
       "    </tr>\n",
       "    <tr>\n",
       "      <th>3</th>\n",
       "      <td>机滤,冷却系统养护</td>\n",
       "    </tr>\n",
       "    <tr>\n",
       "      <th>4</th>\n",
       "      <td>机滤,变速箱油,楔形皮带</td>\n",
       "    </tr>\n",
       "    <tr>\n",
       "      <th>...</th>\n",
       "      <td>...</td>\n",
       "    </tr>\n",
       "    <tr>\n",
       "      <th>773920</th>\n",
       "      <td>机滤,楔形皮带</td>\n",
       "    </tr>\n",
       "    <tr>\n",
       "      <th>773921</th>\n",
       "      <td>机滤,冷却系统养护</td>\n",
       "    </tr>\n",
       "    <tr>\n",
       "      <th>773922</th>\n",
       "      <td>机滤</td>\n",
       "    </tr>\n",
       "    <tr>\n",
       "      <th>773923</th>\n",
       "      <td>机滤</td>\n",
       "    </tr>\n",
       "    <tr>\n",
       "      <th>773924</th>\n",
       "      <td>机滤,楔形皮带,冷却系统养护</td>\n",
       "    </tr>\n",
       "  </tbody>\n",
       "</table>\n",
       "<p>773925 rows × 1 columns</p>\n",
       "</div>"
      ],
      "text/plain": [
       "       下次产品更换提醒_当前时间之后_按客户习惯\n",
       "0                 制动液,冷却系统养护\n",
       "1              机滤,燃油滤清器,变速箱油\n",
       "2             机滤,楔形皮带,冷却系统养护\n",
       "3                  机滤,冷却系统养护\n",
       "4               机滤,变速箱油,楔形皮带\n",
       "...                      ...\n",
       "773920               机滤,楔形皮带\n",
       "773921             机滤,冷却系统养护\n",
       "773922                    机滤\n",
       "773923                    机滤\n",
       "773924        机滤,楔形皮带,冷却系统养护\n",
       "\n",
       "[773925 rows x 1 columns]"
      ]
     },
     "execution_count": 37,
     "metadata": {},
     "output_type": "execute_result"
    }
   ],
   "source": [
    "wb_s1['下次产品更换提醒_当前时间之后_按客户习惯']=list(map(lambda a,c,d,e,f,g,h,i,j,k,l,m:get_concat(a,c,d,e,f,\\\n",
    "                                                                                   g,h,i,j,k,l,m),\\\n",
    "                                         wb_s1['机滤_模型预测_是否推荐'],wb_s1['燃油滤清器_模型预测_是否推荐'],\\\n",
    "                                         wb_s1['变速箱油_模型预测_是否推荐'],wb_s1['楔形皮带_模型预测_是否推荐'],\\\n",
    "                                         wb_s1['制动液_模型预测_是否推荐'],wb_s1['正时皮带/链条_模型预测_是否推荐'],\\\n",
    "                                         wb_s1['点火线圈_模型预测_是否推荐'],wb_s1['冷却系统养护_模型预测_是否推荐'],\\\n",
    "                                         wb_s1['绿色养护_模型预测_是否推荐'],wb_s1['减振器_模型预测_是否推荐'],\\\n",
    "                                         wb_s1['变速箱滤清器_模型预测_是否推荐'],wb_s1['空调冷媒_模型预测_是否推荐']))\n",
    "wb_s1.loc[wb_s1['下次产品更换提醒_当前时间之后_按客户习惯']=='','下次产品更换提醒_当前时间之后_按客户习惯']='-'\n",
    "wb_s1[['下次产品更换提醒_当前时间之后_按客户习惯']]"
   ]
  },
  {
   "cell_type": "code",
   "execution_count": 38,
   "metadata": {},
   "outputs": [
    {
     "data": {
      "text/html": [
       "<div>\n",
       "<style scoped>\n",
       "    .dataframe tbody tr th:only-of-type {\n",
       "        vertical-align: middle;\n",
       "    }\n",
       "\n",
       "    .dataframe tbody tr th {\n",
       "        vertical-align: top;\n",
       "    }\n",
       "\n",
       "    .dataframe thead th {\n",
       "        text-align: right;\n",
       "    }\n",
       "</style>\n",
       "<table border=\"1\" class=\"dataframe\">\n",
       "  <thead>\n",
       "    <tr style=\"text-align: right;\">\n",
       "      <th></th>\n",
       "      <th>下次产品更换提醒_当前时间之后_按官方建议周期</th>\n",
       "    </tr>\n",
       "  </thead>\n",
       "  <tbody>\n",
       "    <tr>\n",
       "      <th>0</th>\n",
       "      <td>机滤</td>\n",
       "    </tr>\n",
       "    <tr>\n",
       "      <th>1</th>\n",
       "      <td>机滤,冷却系统养护</td>\n",
       "    </tr>\n",
       "    <tr>\n",
       "      <th>2</th>\n",
       "      <td>冷却系统养护</td>\n",
       "    </tr>\n",
       "    <tr>\n",
       "      <th>3</th>\n",
       "      <td>机滤,变速箱油,制动液</td>\n",
       "    </tr>\n",
       "    <tr>\n",
       "      <th>4</th>\n",
       "      <td>楔形皮带,冷却系统养护</td>\n",
       "    </tr>\n",
       "    <tr>\n",
       "      <th>...</th>\n",
       "      <td>...</td>\n",
       "    </tr>\n",
       "    <tr>\n",
       "      <th>773920</th>\n",
       "      <td>燃油滤清器,变速箱油,制动液</td>\n",
       "    </tr>\n",
       "    <tr>\n",
       "      <th>773921</th>\n",
       "      <td>机滤</td>\n",
       "    </tr>\n",
       "    <tr>\n",
       "      <th>773922</th>\n",
       "      <td>机滤,制动液</td>\n",
       "    </tr>\n",
       "    <tr>\n",
       "      <th>773923</th>\n",
       "      <td>机滤</td>\n",
       "    </tr>\n",
       "    <tr>\n",
       "      <th>773924</th>\n",
       "      <td>机滤,燃油滤清器,变速箱油,冷却系统养护</td>\n",
       "    </tr>\n",
       "  </tbody>\n",
       "</table>\n",
       "<p>773925 rows × 1 columns</p>\n",
       "</div>"
      ],
      "text/plain": [
       "       下次产品更换提醒_当前时间之后_按官方建议周期\n",
       "0                           机滤\n",
       "1                    机滤,冷却系统养护\n",
       "2                       冷却系统养护\n",
       "3                  机滤,变速箱油,制动液\n",
       "4                  楔形皮带,冷却系统养护\n",
       "...                        ...\n",
       "773920          燃油滤清器,变速箱油,制动液\n",
       "773921                      机滤\n",
       "773922                  机滤,制动液\n",
       "773923                      机滤\n",
       "773924    机滤,燃油滤清器,变速箱油,冷却系统养护\n",
       "\n",
       "[773925 rows x 1 columns]"
      ]
     },
     "execution_count": 38,
     "metadata": {},
     "output_type": "execute_result"
    }
   ],
   "source": [
    "gc.collect()\n",
    "    \n",
    "wb_s2['下次产品更换提醒_当前时间之后_按官方建议周期']=list(map(lambda a,c,d,e,f,g,h,i,j,k,l,m:get_concat(a,c,d,\\\n",
    "                                                                                     e,f,g,h,i,j,k,l,m),\\\n",
    "                                           wb_s2['机滤_根据每1万公里保养建议_是否推荐'],\\\n",
    "                                           wb_s2['燃油滤清器_根据每1万公里保养建议_是否推荐'],\n",
    "                                           wb_s2['变速箱油_根据每1万公里保养建议_是否推荐'],\n",
    "                                           wb_s2['楔形皮带_根据每1万公里保养建议_是否推荐'],\n",
    "                                           wb_s2['制动液_根据每1万公里保养建议_是否推荐'],\n",
    "                                           wb_s2['正时皮带/链条_根据每1万公里保养建议_是否推荐'],\n",
    "                                           wb_s2['点火线圈_根据每1万公里保养建议_是否推荐'],\n",
    "                                           wb_s2['冷却系统养护_根据每1万公里保养建议_是否推荐'],\n",
    "                                           wb_s2['绿色养护_根据每1万公里保养建议_是否推荐'],\n",
    "                                           wb_s2['减振器_根据每1万公里保养建议_是否推荐'],\n",
    "                                           wb_s2['变速箱滤清器_根据每1万公里保养建议_是否推荐'],\n",
    "                                           wb_s2['空调冷媒_根据每1万公里保养建议_是否推荐']))\n",
    "wb_s2.loc[wb_s2['下次产品更换提醒_当前时间之后_按官方建议周期']=='','下次产品更换提醒_当前时间之后_按官方建议周期']='-'\n",
    "wb_s2[['下次产品更换提醒_当前时间之后_按官方建议周期']]"
   ]
  },
  {
   "cell_type": "code",
   "execution_count": 39,
   "metadata": {},
   "outputs": [
    {
     "name": "stdout",
     "output_type": "stream",
     "text": [
      "(773925, 3)\n",
      "773925\n"
     ]
    }
   ],
   "source": [
    "gc.collect()\n",
    "wbb=wb_s1[['VIN','下次产品更换提醒_当前时间之后_按客户习惯']].merge(wb_s2[['VIN','下次产品更换提醒_当前时间之后_按官方建议周期']],on=['VIN'],how='left')\n",
    "print(wbb.shape)\n",
    "print(wbb['VIN'].nunique())"
   ]
  },
  {
   "cell_type": "code",
   "execution_count": 40,
   "metadata": {},
   "outputs": [],
   "source": [
    "wbb.to_pickle(savep+'下次产品更换提醒.pkl')\n",
    "wbb.to_pickle(updated_savep+'下次产品更换提醒.pkl')"
   ]
  },
  {
   "cell_type": "code",
   "execution_count": 41,
   "metadata": {},
   "outputs": [
    {
     "name": "stdout",
     "output_type": "stream",
     "text": [
      "run time is:  482.1859161496162\n"
     ]
    }
   ],
   "source": [
    "print('run time is: ',(time.time()-s1)/60)"
   ]
  },
  {
   "cell_type": "code",
   "execution_count": 42,
   "metadata": {},
   "outputs": [
    {
     "data": {
      "text/plain": [
       "8.033333333333333"
      ]
     },
     "execution_count": 42,
     "metadata": {},
     "output_type": "execute_result"
    }
   ],
   "source": [
    "482/60"
   ]
  },
  {
   "cell_type": "code",
   "execution_count": null,
   "metadata": {},
   "outputs": [],
   "source": []
  },
  {
   "cell_type": "code",
   "execution_count": null,
   "metadata": {},
   "outputs": [],
   "source": []
  },
  {
   "cell_type": "code",
   "execution_count": null,
   "metadata": {},
   "outputs": [],
   "source": []
  }
 ],
 "metadata": {
  "kernelspec": {
   "display_name": "Python 3",
   "language": "python",
   "name": "python3"
  },
  "language_info": {
   "codemirror_mode": {
    "name": "ipython",
    "version": 3
   },
   "file_extension": ".py",
   "mimetype": "text/x-python",
   "name": "python",
   "nbconvert_exporter": "python",
   "pygments_lexer": "ipython3",
   "version": "3.7.4"
  }
 },
 "nbformat": 4,
 "nbformat_minor": 2
}
